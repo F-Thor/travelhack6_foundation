{
 "cells": [
  {
   "cell_type": "code",
   "execution_count": 272,
   "id": "motivated-roman",
   "metadata": {},
   "outputs": [],
   "source": [
    "import pandas as pd\n",
    "import numpy as np\n",
    "import seaborn as sns\n",
    "import matplotlib.pyplot as plt\n",
    "from tqdm import tqdm\n",
    "import math\n",
    "pd.set_option('display.max_columns', None)\n",
    "pd.set_option('display.max_rows', 30)\n",
    "import warnings\n",
    "warnings.filterwarnings('ignore')"
   ]
  },
  {
   "cell_type": "code",
   "execution_count": null,
   "id": "alternate-support",
   "metadata": {},
   "outputs": [],
   "source": [
    "t = pd.read_csv('/home/alloxa/travelhack6.csv')"
   ]
  },
  {
   "cell_type": "code",
   "execution_count": null,
   "id": "commercial-religious",
   "metadata": {},
   "outputs": [],
   "source": [
    "t = t.rename(columns={'Состав группы (Заявка) (Заявка)': 'Состав группы'})"
   ]
  },
  {
   "cell_type": "code",
   "execution_count": 396,
   "id": "accessory-danger",
   "metadata": {},
   "outputs": [
    {
     "data": {
      "text/plain": [
       "Пол                       0\n",
       "Город отправления         0\n",
       "Глубина продаж            0\n",
       "ИД клиента                0\n",
       "Наименование тура         0\n",
       "Сумма в $                 0\n",
       "Состав группы             0\n",
       "Младенцы                  0\n",
       "Туристы, дети             0\n",
       "visa                      0\n",
       "Туристов                  0\n",
       "Туристы, взрослые         0\n",
       "Тип заявки                0\n",
       "Ночей                     0\n",
       "Год                       0\n",
       "Дата начала тура          0\n",
       "Дата бронирования         0\n",
       "Заявка №                  0\n",
       "Возраст клиента           0\n",
       "Расстояние                0\n",
       "День рождения           478\n",
       "Страна тура             940\n",
       "Вид тура                940\n",
       "Звездность            99347\n",
       "Тип питания           99347\n",
       "Город Отеля          110421\n",
       "Регион отеля         110421\n",
       "dtype: int64"
      ]
     },
     "execution_count": 396,
     "metadata": {},
     "output_type": "execute_result"
    }
   ],
   "source": [
    "t.isna().sum().sort_values()"
   ]
  },
  {
   "cell_type": "code",
   "execution_count": 397,
   "id": "molecular-bryan",
   "metadata": {},
   "outputs": [
    {
     "data": {
      "text/plain": [
       "193276"
      ]
     },
     "execution_count": 397,
     "metadata": {},
     "output_type": "execute_result"
    }
   ],
   "source": [
    "t['ИД клиента'].nunique()"
   ]
  },
  {
   "cell_type": "code",
   "execution_count": 399,
   "id": "authorized-tanzania",
   "metadata": {},
   "outputs": [
    {
     "data": {
      "text/plain": [
       "Турция         124842\n",
       "Кипр            17868\n",
       "Россия           9538\n",
       "Испания          7582\n",
       "ОАЭ              7472\n",
       "                ...  \n",
       "Дания               6\n",
       "Азербайджан         5\n",
       "Литва               4\n",
       "Норвегия            4\n",
       "Сербия              1\n",
       "Name: Страна тура, Length: 52, dtype: int64"
      ]
     },
     "execution_count": 399,
     "metadata": {},
     "output_type": "execute_result"
    }
   ],
   "source": [
    "t['Страна тура'].value_counts()"
   ]
  },
  {
   "cell_type": "code",
   "execution_count": null,
   "id": "elegant-messenger",
   "metadata": {
    "scrolled": true
   },
   "outputs": [],
   "source": [
    "#замена ошибочных возраста и дата рождений NaN-ами. \n",
    "t['День рождения'][t['Возраст клиента']>100] = np.NaN\n",
    "t['Возраст клиента'][t['Возраст клиента']>100] = np.NaN"
   ]
  },
  {
   "cell_type": "code",
   "execution_count": null,
   "id": "german-bouquet",
   "metadata": {
    "scrolled": true
   },
   "outputs": [],
   "source": [
    "#Замена Nan возраста и даты рождения медианой с учетом звездности, страны тура и состава группы. \n",
    "for i in t['Звездность'].unique():\n",
    "    for j in t['Вид тура'].unique():\n",
    "        for k in t['Состав группы'].unique():\n",
    "            t['Возраст клиента'][t['Возраст клиента'].isna() & (t['Звездность']==i) & (t['Вид тура']==j) & (t['Состав группы']==k)] = t['Возраст клиента'][(t['Звездность']==i) & (t['Вид тура']==j) & (t['Состав группы']==k)].median()\n"
   ]
  },
  {
   "cell_type": "code",
   "execution_count": null,
   "id": "short-finder",
   "metadata": {},
   "outputs": [],
   "source": [
    "#Замена оставшихся нанов медианой по всей выборке\n",
    "t['Возраст клиента'] = t['Возраст клиента'].fillna(t['Возраст клиента'].median())"
   ]
  },
  {
   "cell_type": "code",
   "execution_count": null,
   "id": "therapeutic-density",
   "metadata": {},
   "outputs": [],
   "source": [
    "from geopy.geocoders import Nominatim\n",
    "from geopy.distance import geodesic\n",
    "geolocator = Nominatim(user_agent=\"Alloxa\")"
   ]
  },
  {
   "cell_type": "code",
   "execution_count": 291,
   "id": "prerequisite-posting",
   "metadata": {},
   "outputs": [],
   "source": [
    "t['Расстояние'] = 0"
   ]
  },
  {
   "cell_type": "code",
   "execution_count": 269,
   "id": "pointed-seeker",
   "metadata": {
    "scrolled": true
   },
   "outputs": [
    {
     "data": {
      "text/plain": [
       "array(['Турция', 'Кипр', 'Россия', 'Абхазия', 'ОАЭ', 'Мальдивы',\n",
       "       'Черногория', 'Греция', 'Круизы', 'Беларусь', 'Тунис', 'Испания',\n",
       "       'Болгария', 'Италия', nan, 'Таиланд', 'Албания',\n",
       "       'Доминиканская Республика', 'Иордания', 'Хорватия', 'Израиль',\n",
       "       'Финляндия', 'Андорра', 'Чехия', 'Куба', 'Франция', 'Шри-Ланка',\n",
       "       'Швеция', 'Вьетнам', 'Китай', 'Грузия', 'Индонезия', 'Португалия',\n",
       "       'Венгрия', 'Латвия', 'Австрия', 'Япония', 'Великобритания',\n",
       "       'Маврикий', 'Мексика', 'Южная Корея', 'Ирландия', 'Германия',\n",
       "       'Эстония', 'Швейцария', 'Словения', 'Польша', 'Азербайджан',\n",
       "       'Армения', 'Норвегия', 'Дания', 'Сербия', 'Литва'], dtype=object)"
      ]
     },
     "execution_count": 269,
     "metadata": {},
     "output_type": "execute_result"
    }
   ],
   "source": [
    "t['Страна тура'].unique()"
   ]
  },
  {
   "cell_type": "code",
   "execution_count": null,
   "id": "initial-implement",
   "metadata": {
    "scrolled": false
   },
   "outputs": [],
   "source": [
    "#Заполняем Расстояние между городом отправления и страной назначения\n",
    "for town_out in tqdm(t['Город отправления'].unique()):\n",
    "    for cantry_in in t['Страна тура'].unique():\n",
    "            cantry_in = 'Куба'\n",
    "            try:\n",
    "                location1 = geolocator.geocode(town_out)\n",
    "                location2 = geolocator.geocode(cantry_in)\n",
    "                coord_loc1 = (location1.latitude, location1.longitude)\n",
    "                coord_loc2 = (location2.latitude, location2.longitude)\n",
    "                t['Расстояние'][(t['Город отправления']==town_out)&(t['Страна тура']==cantry_in)] = round(geodesic(coord_loc1, coord_loc2).km)\n",
    "            except:\n",
    "                print('не удалось записать расстояние между '+town_out+' и '+cantry_in)\n",
    "        "
   ]
  },
  {
   "cell_type": "code",
   "execution_count": null,
   "id": "sufficient-lexington",
   "metadata": {},
   "outputs": [],
   "source": [
    "#Заполняем Расстояние между городом отправления и  городом отеля (при отсутствии города отеля замена страной назначения)\n",
    "for i in tqdm(t.index):\n",
    "    if t.loc[i, 'Город Отеля'] != t.loc[i, 'Город Отеля']:\n",
    "        if t.loc[i, 'Страна тура'] != t.loc[i, 'Страна тура']:\n",
    "            t.loc[i, 'Расстояние'] = 0\n",
    "        else:\n",
    "            location1 = geolocator.geocode(t.iloc[i]['Город отправления'])\n",
    "            location2 = geolocator.geocode(t.iloc[i]['Страна тура'])\n",
    "            coord_loc1 = (location1.latitude, location1.longitude)\n",
    "            coord_loc2 = (location2.latitude, location2.longitude)\n",
    "            t.loc[i, 'Расстояние'] = round(geodesic(coord_loc1, coord_loc2).km)\n",
    "    else:\n",
    "        try:\n",
    "            location1 = geolocator.geocode(t.iloc[i]['Город отправления'])\n",
    "            location2 = geolocator.geocode(t.iloc[i]['Город Отеля'])\n",
    "            coord_loc1 = (location1.latitude, location1.longitude)\n",
    "            coord_loc2 = (location2.latitude, location2.longitude)\n",
    "            t.loc[i, 'Расстояние'] = round(geodesic(coord_loc1, coord_loc2).km)\n",
    "        except:\n",
    "            if t.loc[i, 'Страна тура'] == t.loc[i, 'Страна тура']:\n",
    "                location1 = geolocator.geocode(t.iloc[i]['Город отправления'])\n",
    "                location2 = geolocator.geocode(t.iloc[i]['Страна тура'])\n",
    "                coord_loc1 = (location1.latitude, location1.longitude)\n",
    "                coord_loc2 = (location2.latitude, location2.longitude)\n",
    "                t.loc[i, 'Расстояние'] = round(geodesic(coord_loc1, coord_loc2).km)\n",
    "            else:\n",
    "                t.loc[i, 'Расстояние'] = 0\n",
    "    \n",
    "        "
   ]
  },
  {
   "cell_type": "code",
   "execution_count": 391,
   "id": "thick-cooling",
   "metadata": {},
   "outputs": [],
   "source": [
    "distance = t['Расстояние']"
   ]
  },
  {
   "cell_type": "code",
   "execution_count": 393,
   "id": "contrary-canberra",
   "metadata": {},
   "outputs": [],
   "source": [
    "distance.to_csv(\"distance.csv\", index = True)"
   ]
  },
  {
   "cell_type": "code",
   "execution_count": null,
   "id": "technological-response",
   "metadata": {},
   "outputs": [],
   "source": []
  }
 ],
 "metadata": {
  "kernelspec": {
   "display_name": "Python 3",
   "language": "python",
   "name": "python3"
  },
  "language_info": {
   "codemirror_mode": {
    "name": "ipython",
    "version": 3
   },
   "file_extension": ".py",
   "mimetype": "text/x-python",
   "name": "python",
   "nbconvert_exporter": "python",
   "pygments_lexer": "ipython3",
   "version": "3.8.5"
  }
 },
 "nbformat": 4,
 "nbformat_minor": 5
}
