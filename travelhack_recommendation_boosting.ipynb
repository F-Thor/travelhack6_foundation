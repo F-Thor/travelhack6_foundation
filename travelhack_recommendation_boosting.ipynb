{
  "nbformat": 4,
  "nbformat_minor": 0,
  "metadata": {
    "colab": {
      "name": "travelhack recommendation boosting.ipynb",
      "provenance": []
    },
    "kernelspec": {
      "name": "python3",
      "display_name": "Python 3"
    },
    "language_info": {
      "name": "python"
    }
  },
  "cells": [
    {
      "cell_type": "code",
      "metadata": {
        "id": "wuZrKwNnt9d3"
      },
      "source": [
        "import datetime\n",
        "import json\n",
        "\n",
        "import pandas as pd\n",
        "import numpy as np\n",
        "import matplotlib.pyplot as plt\n",
        "import seaborn as sns\n",
        "\n",
        "import tensorflow as tf\n",
        "from tensorflow import keras\n",
        "from tensorflow.keras import layers, optimizers, Model, backend as K\n",
        "\n",
        "from functools import partial\n",
        "from tqdm.notebook import tqdm"
      ],
      "execution_count": 1,
      "outputs": []
    },
    {
      "cell_type": "code",
      "metadata": {
        "colab": {
          "base_uri": "https://localhost:8080/",
          "height": 581
        },
        "id": "4vjvQXkZw4ef",
        "outputId": "2d7ff017-a733-45a6-f5b8-8f16c40ad3af"
      },
      "source": [
        "df = pd.read_csv('drive/MyDrive/TravelHack_Foundation/travelhack6.csv')\n",
        "print(df.columns)\n",
        "df.head()"
      ],
      "execution_count": 2,
      "outputs": [
        {
          "output_type": "stream",
          "text": [
            "Index(['Пол', 'День рождения', 'Возраст клиента', 'Заявка № ',\n",
            "       'Дата бронирования', 'Дата начала тура', 'Год', 'Ночей', 'Вид тура',\n",
            "       'Тип заявки', 'Страна тура', 'Регион отеля', 'Туристов',\n",
            "       'Туристы, взрослые', 'Туристы, дети', 'Младенцы', 'Звездность',\n",
            "       'Состав группы (Заявка) (Заявка)', 'Сумма в $', 'Наименование тура',\n",
            "       'ИД клиента', 'Глубина продаж', 'Тип питания', 'Город Отеля',\n",
            "       'Город отправления'],\n",
            "      dtype='object')\n"
          ],
          "name": "stdout"
        },
        {
          "output_type": "execute_result",
          "data": {
            "text/html": [
              "<div>\n",
              "<style scoped>\n",
              "    .dataframe tbody tr th:only-of-type {\n",
              "        vertical-align: middle;\n",
              "    }\n",
              "\n",
              "    .dataframe tbody tr th {\n",
              "        vertical-align: top;\n",
              "    }\n",
              "\n",
              "    .dataframe thead th {\n",
              "        text-align: right;\n",
              "    }\n",
              "</style>\n",
              "<table border=\"1\" class=\"dataframe\">\n",
              "  <thead>\n",
              "    <tr style=\"text-align: right;\">\n",
              "      <th></th>\n",
              "      <th>Пол</th>\n",
              "      <th>День рождения</th>\n",
              "      <th>Возраст клиента</th>\n",
              "      <th>Заявка №</th>\n",
              "      <th>Дата бронирования</th>\n",
              "      <th>Дата начала тура</th>\n",
              "      <th>Год</th>\n",
              "      <th>Ночей</th>\n",
              "      <th>Вид тура</th>\n",
              "      <th>Тип заявки</th>\n",
              "      <th>Страна тура</th>\n",
              "      <th>Регион отеля</th>\n",
              "      <th>Туристов</th>\n",
              "      <th>Туристы, взрослые</th>\n",
              "      <th>Туристы, дети</th>\n",
              "      <th>Младенцы</th>\n",
              "      <th>Звездность</th>\n",
              "      <th>Состав группы (Заявка) (Заявка)</th>\n",
              "      <th>Сумма в $</th>\n",
              "      <th>Наименование тура</th>\n",
              "      <th>ИД клиента</th>\n",
              "      <th>Глубина продаж</th>\n",
              "      <th>Тип питания</th>\n",
              "      <th>Город Отеля</th>\n",
              "      <th>Город отправления</th>\n",
              "    </tr>\n",
              "  </thead>\n",
              "  <tbody>\n",
              "    <tr>\n",
              "      <th>0</th>\n",
              "      <td>мужской</td>\n",
              "      <td>2018-08-28 00:00:00</td>\n",
              "      <td>2.0</td>\n",
              "      <td>4803671</td>\n",
              "      <td>2021-02-07 20:44:00</td>\n",
              "      <td>2021-05-04 00:00:00</td>\n",
              "      <td>2021</td>\n",
              "      <td>12</td>\n",
              "      <td>Пляжный отдых</td>\n",
              "      <td>Пакет</td>\n",
              "      <td>Турция</td>\n",
              "      <td>NaN</td>\n",
              "      <td>4</td>\n",
              "      <td>2</td>\n",
              "      <td>2</td>\n",
              "      <td>0</td>\n",
              "      <td>4*</td>\n",
              "      <td>Семья</td>\n",
              "      <td>1718.64</td>\n",
              "      <td>Turkey Antalya LED</td>\n",
              "      <td>4197428</td>\n",
              "      <td>85.136111</td>\n",
              "      <td>All Inclusive</td>\n",
              "      <td>NaN</td>\n",
              "      <td>Санкт-Петербург</td>\n",
              "    </tr>\n",
              "    <tr>\n",
              "      <th>1</th>\n",
              "      <td>мужской</td>\n",
              "      <td>1991-04-25 00:00:00</td>\n",
              "      <td>29.0</td>\n",
              "      <td>4803671</td>\n",
              "      <td>2021-02-07 20:44:00</td>\n",
              "      <td>2021-05-04 00:00:00</td>\n",
              "      <td>2021</td>\n",
              "      <td>12</td>\n",
              "      <td>Пляжный отдых</td>\n",
              "      <td>Пакет</td>\n",
              "      <td>Турция</td>\n",
              "      <td>NaN</td>\n",
              "      <td>4</td>\n",
              "      <td>2</td>\n",
              "      <td>2</td>\n",
              "      <td>0</td>\n",
              "      <td>4*</td>\n",
              "      <td>Семья</td>\n",
              "      <td>1718.64</td>\n",
              "      <td>Turkey Antalya LED</td>\n",
              "      <td>4197429</td>\n",
              "      <td>85.136111</td>\n",
              "      <td>All Inclusive</td>\n",
              "      <td>NaN</td>\n",
              "      <td>Санкт-Петербург</td>\n",
              "    </tr>\n",
              "    <tr>\n",
              "      <th>2</th>\n",
              "      <td>мужской</td>\n",
              "      <td>1980-11-05 00:00:00</td>\n",
              "      <td>40.0</td>\n",
              "      <td>4803915</td>\n",
              "      <td>2021-02-08 09:03:00</td>\n",
              "      <td>2021-03-04 00:00:00</td>\n",
              "      <td>2021</td>\n",
              "      <td>6</td>\n",
              "      <td>Пляжный отдых</td>\n",
              "      <td>Пакет</td>\n",
              "      <td>Турция</td>\n",
              "      <td>Белек</td>\n",
              "      <td>3</td>\n",
              "      <td>2</td>\n",
              "      <td>1</td>\n",
              "      <td>0</td>\n",
              "      <td>5*</td>\n",
              "      <td>Семья</td>\n",
              "      <td>948.45</td>\n",
              "      <td>Turkey Antalya MOW</td>\n",
              "      <td>4197517</td>\n",
              "      <td>23.622917</td>\n",
              "      <td>AIP</td>\n",
              "      <td>Боазкент</td>\n",
              "      <td>Москва</td>\n",
              "    </tr>\n",
              "    <tr>\n",
              "      <th>3</th>\n",
              "      <td>мужской</td>\n",
              "      <td>2013-02-27 00:00:00</td>\n",
              "      <td>8.0</td>\n",
              "      <td>4806034</td>\n",
              "      <td>2021-02-08 19:46:00</td>\n",
              "      <td>2021-10-09 00:00:00</td>\n",
              "      <td>2021</td>\n",
              "      <td>11</td>\n",
              "      <td>Пляжный отдых</td>\n",
              "      <td>Пакет</td>\n",
              "      <td>Турция</td>\n",
              "      <td>Кемер</td>\n",
              "      <td>3</td>\n",
              "      <td>2</td>\n",
              "      <td>1</td>\n",
              "      <td>0</td>\n",
              "      <td>5*</td>\n",
              "      <td>Семья</td>\n",
              "      <td>2128.15</td>\n",
              "      <td>Turkey Antalya MOW</td>\n",
              "      <td>4197718</td>\n",
              "      <td>242.176389</td>\n",
              "      <td>UAI</td>\n",
              "      <td>Текирова</td>\n",
              "      <td>Москва</td>\n",
              "    </tr>\n",
              "    <tr>\n",
              "      <th>4</th>\n",
              "      <td>мужской</td>\n",
              "      <td>1968-10-06 00:00:00</td>\n",
              "      <td>52.0</td>\n",
              "      <td>4806034</td>\n",
              "      <td>2021-02-08 19:46:00</td>\n",
              "      <td>2021-10-09 00:00:00</td>\n",
              "      <td>2021</td>\n",
              "      <td>11</td>\n",
              "      <td>Пляжный отдых</td>\n",
              "      <td>Пакет</td>\n",
              "      <td>Турция</td>\n",
              "      <td>Кемер</td>\n",
              "      <td>3</td>\n",
              "      <td>2</td>\n",
              "      <td>1</td>\n",
              "      <td>0</td>\n",
              "      <td>5*</td>\n",
              "      <td>Семья</td>\n",
              "      <td>2128.15</td>\n",
              "      <td>Turkey Antalya MOW</td>\n",
              "      <td>4197719</td>\n",
              "      <td>242.176389</td>\n",
              "      <td>UAI</td>\n",
              "      <td>Текирова</td>\n",
              "      <td>Москва</td>\n",
              "    </tr>\n",
              "  </tbody>\n",
              "</table>\n",
              "</div>"
            ],
            "text/plain": [
              "       Пол        День рождения  ...  Город Отеля  Город отправления\n",
              "0  мужской  2018-08-28 00:00:00  ...          NaN    Санкт-Петербург\n",
              "1  мужской  1991-04-25 00:00:00  ...          NaN    Санкт-Петербург\n",
              "2  мужской  1980-11-05 00:00:00  ...     Боазкент             Москва\n",
              "3  мужской  2013-02-27 00:00:00  ...     Текирова             Москва\n",
              "4  мужской  1968-10-06 00:00:00  ...     Текирова             Москва\n",
              "\n",
              "[5 rows x 25 columns]"
            ]
          },
          "metadata": {
            "tags": []
          },
          "execution_count": 2
        }
      ]
    },
    {
      "cell_type": "code",
      "metadata": {
        "colab": {
          "base_uri": "https://localhost:8080/",
          "height": 204
        },
        "id": "ADtxaB0Mw5Na",
        "outputId": "1202e8e4-5b9c-406a-a77d-d9ec0a2fd2f8"
      },
      "source": [
        "for c in ['День рождения', 'Дата бронирования', 'Дата начала тура']:\n",
        "    df[c] = pd.to_datetime(df[c], format='%Y-%m-%d %H:%M:%S')\n",
        "df[['День рождения', 'Дата бронирования', 'Дата начала тура']].head()"
      ],
      "execution_count": 3,
      "outputs": [
        {
          "output_type": "execute_result",
          "data": {
            "text/html": [
              "<div>\n",
              "<style scoped>\n",
              "    .dataframe tbody tr th:only-of-type {\n",
              "        vertical-align: middle;\n",
              "    }\n",
              "\n",
              "    .dataframe tbody tr th {\n",
              "        vertical-align: top;\n",
              "    }\n",
              "\n",
              "    .dataframe thead th {\n",
              "        text-align: right;\n",
              "    }\n",
              "</style>\n",
              "<table border=\"1\" class=\"dataframe\">\n",
              "  <thead>\n",
              "    <tr style=\"text-align: right;\">\n",
              "      <th></th>\n",
              "      <th>День рождения</th>\n",
              "      <th>Дата бронирования</th>\n",
              "      <th>Дата начала тура</th>\n",
              "    </tr>\n",
              "  </thead>\n",
              "  <tbody>\n",
              "    <tr>\n",
              "      <th>0</th>\n",
              "      <td>2018-08-28</td>\n",
              "      <td>2021-02-07 20:44:00</td>\n",
              "      <td>2021-05-04</td>\n",
              "    </tr>\n",
              "    <tr>\n",
              "      <th>1</th>\n",
              "      <td>1991-04-25</td>\n",
              "      <td>2021-02-07 20:44:00</td>\n",
              "      <td>2021-05-04</td>\n",
              "    </tr>\n",
              "    <tr>\n",
              "      <th>2</th>\n",
              "      <td>1980-11-05</td>\n",
              "      <td>2021-02-08 09:03:00</td>\n",
              "      <td>2021-03-04</td>\n",
              "    </tr>\n",
              "    <tr>\n",
              "      <th>3</th>\n",
              "      <td>2013-02-27</td>\n",
              "      <td>2021-02-08 19:46:00</td>\n",
              "      <td>2021-10-09</td>\n",
              "    </tr>\n",
              "    <tr>\n",
              "      <th>4</th>\n",
              "      <td>1968-10-06</td>\n",
              "      <td>2021-02-08 19:46:00</td>\n",
              "      <td>2021-10-09</td>\n",
              "    </tr>\n",
              "  </tbody>\n",
              "</table>\n",
              "</div>"
            ],
            "text/plain": [
              "  День рождения   Дата бронирования Дата начала тура\n",
              "0    2018-08-28 2021-02-07 20:44:00       2021-05-04\n",
              "1    1991-04-25 2021-02-07 20:44:00       2021-05-04\n",
              "2    1980-11-05 2021-02-08 09:03:00       2021-03-04\n",
              "3    2013-02-27 2021-02-08 19:46:00       2021-10-09\n",
              "4    1968-10-06 2021-02-08 19:46:00       2021-10-09"
            ]
          },
          "metadata": {
            "tags": []
          },
          "execution_count": 3
        }
      ]
    },
    {
      "cell_type": "code",
      "metadata": {
        "colab": {
          "base_uri": "https://localhost:8080/"
        },
        "id": "2MUceOFLw6jV",
        "outputId": "93b541b9-9324-4278-9cfe-906b443e8a48"
      },
      "source": [
        "star_map = {\n",
        "    '5*': 5,\n",
        "    '4*': 4,\n",
        "    '3*': 3,\n",
        "    '2*': 2,\n",
        "    '-': np.nan,\n",
        "    '4*+': 4,\n",
        "    '3*+': 3,\n",
        "    'apt': 'apt',\n",
        "    '0': np.nan,\n",
        "    'HV1': 'HV',\n",
        "    'Без звёзд': np.nan,\n",
        "    'HV': 'HV',\n",
        "    'HV2': 'HV',\n",
        "    '3*-4*': 3,\n",
        "    'BOUTIQUE': np.nan,\n",
        "    '1*': 1,\n",
        "    '2*super': 2,\n",
        "    '2*+': 2,\n",
        "    'Guest House': 'apt',\n",
        "    'Std Apt': 'apt',\n",
        "    '5*+': 5,\n",
        "    '2*-3*': 2,\n",
        "    '5* Deluxe': 5,\n",
        "    '4*-5*': 4,\n",
        "    'S-CLASS': np.nan,\n",
        "    '3*super': 3,\n",
        "    'SC': 'apt',\n",
        "    'cat A': 4,\n",
        "    'cat B': 3,\n",
        "}\n",
        "\n",
        "df['Звездность_fix'] = df['Звездность'].map(star_map)\n",
        "df['Звездность_fix'].value_counts()"
      ],
      "execution_count": 4,
      "outputs": [
        {
          "output_type": "execute_result",
          "data": {
            "text/plain": [
              "5      61344\n",
              "4      27659\n",
              "3      16269\n",
              "2       1574\n",
              "HV       764\n",
              "apt      516\n",
              "1         71\n",
              "Name: Звездность_fix, dtype: int64"
            ]
          },
          "metadata": {
            "tags": []
          },
          "execution_count": 4
        }
      ]
    },
    {
      "cell_type": "code",
      "metadata": {
        "colab": {
          "base_uri": "https://localhost:8080/"
        },
        "id": "wI0iZsyXw76Z",
        "outputId": "1057d8f9-c756-47f3-9e6d-9b8cba271736"
      },
      "source": [
        "foods = df['Тип питания'].unique()\n",
        "food_map = {\n",
        "    'UAI': [\n",
        "        'UAI', 'Ultra All Exclusive', 'All Inclusive Ultra', 'ULTRA ALL INCLUSIVE PLUS', 'Ultimate All Inclusive',\n",
        "        'PREMIER ULTRA ALL INCLUSIVE', 'PREMIUM ALA CARTE ALL INCLUSIVE', 'Golden All Inclusive',\n",
        "        'Platinum Plan All inclusive', 'SUPERIOR ALL INCLUSIVE', 'All Inclusive Premium',\n",
        "        'ULTRA ALL INCLUSIVE WITH HIGH LEVEL', 'Emerald All Inclusive', 'Gold All Inclusive',\n",
        "        'Super All Inclusive', 'All Inc Ultra Luxury', 'Diamond AI', 'PREMIUM ULTRA ALL INCLUSIVE',\n",
        "        'AIP', 'AIS', 'Crystal Package',  'PRIVILEGED LIFE', 'Pure Indulgence Dine Around', 'Serenity Plan',\n",
        "        'PRE.AI.LIFE STYLE', 'Premium All Inclusive', 'PALAZZO ALL INCLUSIVE'\n",
        "    ],\n",
        "    'AI': [\n",
        "        'AI', 'All Inclusive', 'All Inclusive Dine Around',\n",
        "        'Basic All Inclusive', 'Soft All Inclusive', \"A'LA CARTE ALL INCLUSIVE\", 'Light All Inclusive', \n",
        "        'All Inclusive Aqua', 'Limited all Inclusive', 'Island Plan All Inclusive',\n",
        "        'Full Dine Around All Inclusive', 'VARU ALL INCLUSIVE', 'All inclusive Style',\n",
        "        'All Inclusive Lite',  'Все включено СЕМЕЙНЫЙ', 'Все включено ПЛЯЖНЫЙ',\n",
        "        'AI Light', 'AI NON ALCOHOL', 'ALL IN CONCEPT', \n",
        "        'LAI', 'LAI HB', 'FAI','DAI', 'DDAI', 'EAI', 'HB AI', 'FB AI', 'LAI FB', 'MAI'\n",
        "    ],\n",
        "    'FB': [\n",
        "        'FB', 'BB+FB', 'FB + Оздоровит. путевка', 'FB+',  'FB + Лечение',\n",
        "        'FB Beverage', 'FB + Общетерапевт.путевка',\n",
        "        'FB + Антистресс', 'FB + Оздоровительная', 'FB + Отдых', 'FBT',\n",
        "        'FB ресторан «Алтай» + Лечебная путевка', 'FB + Gala Dinner',\n",
        "        'Полный пансион', 'Полный пансион + Лечение', 'Полный Пансион (шведский стол) + Отдых',\n",
        "        'Полный Пансион+Отдых бассейн с термотерапией', 'Полный пансион+ Общетерапевтическая Лайт',\n",
        "        'Полный пансион + Общетерапевтическая с Мацестой', 'Полный пансион + Общетерапевтическая без Мацесты',\n",
        "        'Полный пансион + путевка Курортная', 'Полный Пансион + Смарт путевка', 'Полный Пансион + Серебряный возраст',\n",
        "        'Full Board + drinks', 'Full Board Premium', 'Full Board Treatment Relax', 'Оздоровительная.',\n",
        "        'FBp - Завтрак, обед, ужин (Premium)'\n",
        "    ],\n",
        "    'HB': [\n",
        "        'HB', 'HB (завтрак+ужин)', 'HB + Оздоровит. путевка', 'HB+', 'HB Plus',\n",
        "        'HB (завтрак+обед)', 'HB Beverage', 'BB+HB', 'HBT', 'HB + Лечение',\n",
        "        'PR - Завтрак, ужин (Premium)',\n",
        "        'Полупансион (завтрак+ужин)', 'Half Board Platinum', 'Half board + drinks',\n",
        "        'Half Board Dine Around', 'Half Board Premium', 'Half Board Beach', 'Half Board Treatment Relax'\n",
        "    ],\n",
        "    'BB': [\n",
        "        'Завтрак', 'BB', 'BB Continental', 'BB + Оздоровит. путевка', 'BB Пляжный',\n",
        "        'Breakfast', 'Bed And Breakfast Plus'\n",
        "    ],\n",
        "    'RO': [\n",
        "        'RO', 'RO + Оздоровительная курсовка', 'RO + Оздоровительная путевка', 'Only Bed', 'Bed Only', 'Без питания'\n",
        "    ]\n",
        "}\n",
        "t = [vv for v in food_map.values() for vv in v]\n",
        "print(len(t) == len(set(t)))\n",
        "set(foods) - set([vv for v in food_map.values() for vv in v])"
      ],
      "execution_count": 5,
      "outputs": [
        {
          "output_type": "stream",
          "text": [
            "True\n"
          ],
          "name": "stdout"
        },
        {
          "output_type": "execute_result",
          "data": {
            "text/plain": [
              "{'0',\n",
              " 'AXI',\n",
              " 'Al + лечение',\n",
              " 'As Per Program',\n",
              " 'HCI',\n",
              " 'HEA',\n",
              " 'LUXME',\n",
              " 'SC',\n",
              " nan,\n",
              " 'По программе',\n",
              " 'По программе +'}"
            ]
          },
          "metadata": {
            "tags": []
          },
          "execution_count": 5
        }
      ]
    },
    {
      "cell_type": "code",
      "metadata": {
        "colab": {
          "base_uri": "https://localhost:8080/"
        },
        "id": "D1H0vH7jxDB4",
        "outputId": "952fd561-d500-4945-b742-fd524c302c0d"
      },
      "source": [
        "def fix_food(f):\n",
        "    for key in food_map:\n",
        "        if f in food_map[key]:\n",
        "            return key\n",
        "df['Тип питания fix'] = df['Тип питания'].apply(fix_food)\n",
        "df['Тип питания fix'].value_counts()"
      ],
      "execution_count": 6,
      "outputs": [
        {
          "output_type": "execute_result",
          "data": {
            "text/plain": [
              "AI     44930\n",
              "UAI    30551\n",
              "HB     12459\n",
              "BB     11874\n",
              "FB      3336\n",
              "RO      2362\n",
              "Name: Тип питания fix, dtype: int64"
            ]
          },
          "metadata": {
            "tags": []
          },
          "execution_count": 6
        }
      ]
    },
    {
      "cell_type": "code",
      "metadata": {
        "colab": {
          "base_uri": "https://localhost:8080/",
          "height": 265
        },
        "id": "iqYW0dIdxE14",
        "outputId": "64a9ad12-0dae-4836-fb27-debd73a06fb7"
      },
      "source": [
        "def time_diff(row):\n",
        "    d1 = row['День рождения'].dayofyear\n",
        "    d2 = row['Дата начала тура'].dayofyear\n",
        "    if d1>d2: d2,d1=d1,d2\n",
        "    return d2-d1 if d2-d1<183 else d1+365-d2\n",
        "df['Начало тура ДР'] = df.apply(time_diff, axis=1)\n",
        "df['Начало тура ДР'].hist(bins=50);"
      ],
      "execution_count": 7,
      "outputs": [
        {
          "output_type": "display_data",
          "data": {
            "image/png": "[encoded data removed]",
            "text/plain": [
              "<Figure size 432x288 with 1 Axes>"
            ]
          },
          "metadata": {
            "tags": [],
            "needs_background": "light"
          }
        }
      ]
    },
    {
      "cell_type": "code",
      "metadata": {
        "id": "7GOK9aNrxGUm"
      },
      "source": [
        "df = df.rename(columns={\n",
        "    'Состав группы (Заявка) (Заявка)': 'Состав группы',\n",
        "    'Заявка № ': 'Заявка',\n",
        "    'Сумма в $': 'Сумма',\n",
        "    'Город Отеля': 'Город отеля'\n",
        "})"
      ],
      "execution_count": 8,
      "outputs": []
    },
    {
      "cell_type": "code",
      "metadata": {
        "id": "9hI3sjehxR2F"
      },
      "source": [
        "df['Месяц Бронирования'] = df['Дата бронирования'].apply(lambda x: x.month)\n",
        "df['Месяц Выезда'] = df['Дата бронирования'].apply(lambda x: x.month)"
      ],
      "execution_count": 9,
      "outputs": []
    },
    {
      "cell_type": "code",
      "metadata": {
        "id": "yQcj45JaxSds"
      },
      "source": [
        "df.loc[df['Возраст клиента']>100, 'День рождения'] = np.nan\n",
        "df.loc[df['Возраст клиента']>100, 'Возраст клиента'] = np.nan\n",
        "\n",
        "df['День рождения'].fillna(df['Дата бронирования'] -  datetime.timedelta(30*360), inplace=True)\n",
        "df['Возраст клиента'].fillna(30, inplace=True)"
      ],
      "execution_count": 10,
      "outputs": []
    },
    {
      "cell_type": "code",
      "metadata": {
        "colab": {
          "base_uri": "https://localhost:8080/"
        },
        "id": "iDFNDxk8xVUn",
        "outputId": "b5f685a6-e17f-4ffe-9d92-8748e2fcdcdb"
      },
      "source": [
        "df['Пол'] = (df['Пол']=='мужской').astype(int)\n",
        "df['Пол'].value_counts()"
      ],
      "execution_count": 12,
      "outputs": [
        {
          "output_type": "execute_result",
          "data": {
            "text/plain": [
              "0    124300\n",
              "1     85309\n",
              "Name: Пол, dtype: int64"
            ]
          },
          "metadata": {
            "tags": []
          },
          "execution_count": 12
        }
      ]
    },
    {
      "cell_type": "code",
      "metadata": {
        "id": "WWzUMNY5xVXN"
      },
      "source": [
        "f = [\n",
        "    'ИД клиента',\n",
        "    'Пол',\n",
        "    'Возраст клиента',\n",
        "    'Начало тура ДР',\n",
        "    'Месяц Бронирования',\n",
        "    'Месяц Выезда',\n",
        "    'Туристов',\n",
        "    'Туристы, взрослые',\n",
        "    'Туристы, дети',\n",
        "    'Младенцы',\n",
        "    'Состав группы',\n",
        "    'Город отправления'\n",
        "]\n",
        "\n",
        "t = [\n",
        "    'Ночей',\n",
        "    'Сумма',\n",
        "    'Звездность_fix',\n",
        "    'Тип питания fix',\n",
        "    'Страна тура',\n",
        "    'Регион отеля',\n",
        "    'Город отеля',\n",
        "]"
      ],
      "execution_count": 11,
      "outputs": []
    },
    {
      "cell_type": "code",
      "metadata": {
        "colab": {
          "base_uri": "https://localhost:8080/",
          "height": 272
        },
        "id": "WWs3MrhhxVST",
        "outputId": "d39c84a8-0dc0-4832-d418-d862d36144ad"
      },
      "source": [
        "df_ = df[f+t].copy()\n",
        "df_.head()"
      ],
      "execution_count": 16,
      "outputs": [
        {
          "output_type": "execute_result",
          "data": {
            "text/html": [
              "<div>\n",
              "<style scoped>\n",
              "    .dataframe tbody tr th:only-of-type {\n",
              "        vertical-align: middle;\n",
              "    }\n",
              "\n",
              "    .dataframe tbody tr th {\n",
              "        vertical-align: top;\n",
              "    }\n",
              "\n",
              "    .dataframe thead th {\n",
              "        text-align: right;\n",
              "    }\n",
              "</style>\n",
              "<table border=\"1\" class=\"dataframe\">\n",
              "  <thead>\n",
              "    <tr style=\"text-align: right;\">\n",
              "      <th></th>\n",
              "      <th>ИД клиента</th>\n",
              "      <th>Пол</th>\n",
              "      <th>Возраст клиента</th>\n",
              "      <th>Начало тура ДР</th>\n",
              "      <th>Месяц Бронирования</th>\n",
              "      <th>Месяц Выезда</th>\n",
              "      <th>Туристов</th>\n",
              "      <th>Туристы, взрослые</th>\n",
              "      <th>Туристы, дети</th>\n",
              "      <th>Младенцы</th>\n",
              "      <th>Состав группы</th>\n",
              "      <th>Город отправления</th>\n",
              "      <th>Ночей</th>\n",
              "      <th>Сумма</th>\n",
              "      <th>Звездность_fix</th>\n",
              "      <th>Тип питания fix</th>\n",
              "      <th>Страна тура</th>\n",
              "      <th>Регион отеля</th>\n",
              "      <th>Город отеля</th>\n",
              "    </tr>\n",
              "  </thead>\n",
              "  <tbody>\n",
              "    <tr>\n",
              "      <th>0</th>\n",
              "      <td>4197428</td>\n",
              "      <td>1</td>\n",
              "      <td>2.0</td>\n",
              "      <td>116.0</td>\n",
              "      <td>2</td>\n",
              "      <td>2</td>\n",
              "      <td>4</td>\n",
              "      <td>2</td>\n",
              "      <td>2</td>\n",
              "      <td>0</td>\n",
              "      <td>Семья</td>\n",
              "      <td>Санкт-Петербург</td>\n",
              "      <td>12</td>\n",
              "      <td>1718.64</td>\n",
              "      <td>4</td>\n",
              "      <td>AI</td>\n",
              "      <td>Турция</td>\n",
              "      <td>NaN</td>\n",
              "      <td>NaN</td>\n",
              "    </tr>\n",
              "    <tr>\n",
              "      <th>1</th>\n",
              "      <td>4197429</td>\n",
              "      <td>1</td>\n",
              "      <td>29.0</td>\n",
              "      <td>9.0</td>\n",
              "      <td>2</td>\n",
              "      <td>2</td>\n",
              "      <td>4</td>\n",
              "      <td>2</td>\n",
              "      <td>2</td>\n",
              "      <td>0</td>\n",
              "      <td>Семья</td>\n",
              "      <td>Санкт-Петербург</td>\n",
              "      <td>12</td>\n",
              "      <td>1718.64</td>\n",
              "      <td>4</td>\n",
              "      <td>AI</td>\n",
              "      <td>Турция</td>\n",
              "      <td>NaN</td>\n",
              "      <td>NaN</td>\n",
              "    </tr>\n",
              "    <tr>\n",
              "      <th>2</th>\n",
              "      <td>4197517</td>\n",
              "      <td>1</td>\n",
              "      <td>40.0</td>\n",
              "      <td>118.0</td>\n",
              "      <td>2</td>\n",
              "      <td>2</td>\n",
              "      <td>3</td>\n",
              "      <td>2</td>\n",
              "      <td>1</td>\n",
              "      <td>0</td>\n",
              "      <td>Семья</td>\n",
              "      <td>Москва</td>\n",
              "      <td>6</td>\n",
              "      <td>948.45</td>\n",
              "      <td>5</td>\n",
              "      <td>UAI</td>\n",
              "      <td>Турция</td>\n",
              "      <td>Белек</td>\n",
              "      <td>Боазкент</td>\n",
              "    </tr>\n",
              "    <tr>\n",
              "      <th>3</th>\n",
              "      <td>4197718</td>\n",
              "      <td>1</td>\n",
              "      <td>8.0</td>\n",
              "      <td>141.0</td>\n",
              "      <td>2</td>\n",
              "      <td>2</td>\n",
              "      <td>3</td>\n",
              "      <td>2</td>\n",
              "      <td>1</td>\n",
              "      <td>0</td>\n",
              "      <td>Семья</td>\n",
              "      <td>Москва</td>\n",
              "      <td>11</td>\n",
              "      <td>2128.15</td>\n",
              "      <td>5</td>\n",
              "      <td>UAI</td>\n",
              "      <td>Турция</td>\n",
              "      <td>Кемер</td>\n",
              "      <td>Текирова</td>\n",
              "    </tr>\n",
              "    <tr>\n",
              "      <th>4</th>\n",
              "      <td>4197719</td>\n",
              "      <td>1</td>\n",
              "      <td>52.0</td>\n",
              "      <td>2.0</td>\n",
              "      <td>2</td>\n",
              "      <td>2</td>\n",
              "      <td>3</td>\n",
              "      <td>2</td>\n",
              "      <td>1</td>\n",
              "      <td>0</td>\n",
              "      <td>Семья</td>\n",
              "      <td>Москва</td>\n",
              "      <td>11</td>\n",
              "      <td>2128.15</td>\n",
              "      <td>5</td>\n",
              "      <td>UAI</td>\n",
              "      <td>Турция</td>\n",
              "      <td>Кемер</td>\n",
              "      <td>Текирова</td>\n",
              "    </tr>\n",
              "  </tbody>\n",
              "</table>\n",
              "</div>"
            ],
            "text/plain": [
              "   ИД клиента  Пол  Возраст клиента  ...  Страна тура  Регион отеля  Город отеля\n",
              "0     4197428    1              2.0  ...       Турция           NaN          NaN\n",
              "1     4197429    1             29.0  ...       Турция           NaN          NaN\n",
              "2     4197517    1             40.0  ...       Турция         Белек     Боазкент\n",
              "3     4197718    1              8.0  ...       Турция         Кемер     Текирова\n",
              "4     4197719    1             52.0  ...       Турция         Кемер     Текирова\n",
              "\n",
              "[5 rows x 19 columns]"
            ]
          },
          "metadata": {
            "tags": []
          },
          "execution_count": 16
        }
      ]
    },
    {
      "cell_type": "code",
      "metadata": {
        "id": "s4Tq__HLxVP9"
      },
      "source": [
        "df_ = df_.fillna('nan')"
      ],
      "execution_count": 18,
      "outputs": []
    },
    {
      "cell_type": "code",
      "metadata": {
        "colab": {
          "base_uri": "https://localhost:8080/"
        },
        "id": "qg7Ync6cxVNT",
        "outputId": "ea37546a-5cd3-4fd0-83dc-bfc78db1e93e"
      },
      "source": [
        "first_tour = df.sort_values('Дата бронирования').groupby('ИД клиента').first()\n",
        "first_tour.shape"
      ],
      "execution_count": 19,
      "outputs": [
        {
          "output_type": "execute_result",
          "data": {
            "text/plain": [
              "(193276, 29)"
            ]
          },
          "metadata": {
            "tags": []
          },
          "execution_count": 19
        }
      ]
    },
    {
      "cell_type": "code",
      "metadata": {
        "colab": {
          "base_uri": "https://localhost:8080/"
        },
        "id": "2lFNJa4TxVKV",
        "outputId": "59ac01c7-b64f-4182-e1bf-e4825ebfdbbf"
      },
      "source": [
        "not_first_tour = df[~df['Заявка'].isin(first_tour['Заявка'])]\n",
        "not_first_tour.shape"
      ],
      "execution_count": 20,
      "outputs": [
        {
          "output_type": "execute_result",
          "data": {
            "text/plain": [
              "(12050, 30)"
            ]
          },
          "metadata": {
            "tags": []
          },
          "execution_count": 20
        }
      ]
    },
    {
      "cell_type": "code",
      "metadata": {
        "id": "stBn9mxDzqHb"
      },
      "source": [
        "first_tour"
      ],
      "execution_count": null,
      "outputs": []
    },
    {
      "cell_type": "code",
      "metadata": {
        "id": "Y7mtmsCez4jj"
      },
      "source": [
        "t_next = [x + '_next' for x in t]\n",
        "not_first_tour = not_first_tour.rename(columns={x: x + '_next' for x in t})"
      ],
      "execution_count": 31,
      "outputs": []
    },
    {
      "cell_type": "code",
      "metadata": {
        "colab": {
          "base_uri": "https://localhost:8080/"
        },
        "id": "3EF96clm0LYj",
        "outputId": "e09bce6d-e678-43a1-e37e-22a6f0978ff8"
      },
      "source": [
        "merged = first_tour.merge(not_first_tour[['ИД клиента'] + t_next], on='ИД клиента', how='right')\n",
        "merged.shape"
      ],
      "execution_count": 34,
      "outputs": [
        {
          "output_type": "execute_result",
          "data": {
            "text/plain": [
              "(12050, 37)"
            ]
          },
          "metadata": {
            "tags": []
          },
          "execution_count": 34
        }
      ]
    },
    {
      "cell_type": "code",
      "metadata": {
        "colab": {
          "base_uri": "https://localhost:8080/",
          "height": 377
        },
        "id": "az95bAONxU-N",
        "outputId": "10f93172-7fec-480f-ae0a-c909d10a092c"
      },
      "source": [
        "merged.head()"
      ],
      "execution_count": 35,
      "outputs": [
        {
          "output_type": "execute_result",
          "data": {
            "text/html": [
              "<div>\n",
              "<style scoped>\n",
              "    .dataframe tbody tr th:only-of-type {\n",
              "        vertical-align: middle;\n",
              "    }\n",
              "\n",
              "    .dataframe tbody tr th {\n",
              "        vertical-align: top;\n",
              "    }\n",
              "\n",
              "    .dataframe thead th {\n",
              "        text-align: right;\n",
              "    }\n",
              "</style>\n",
              "<table border=\"1\" class=\"dataframe\">\n",
              "  <thead>\n",
              "    <tr style=\"text-align: right;\">\n",
              "      <th></th>\n",
              "      <th>ИД клиента</th>\n",
              "      <th>Пол</th>\n",
              "      <th>День рождения</th>\n",
              "      <th>Возраст клиента</th>\n",
              "      <th>Заявка</th>\n",
              "      <th>Дата бронирования</th>\n",
              "      <th>Дата начала тура</th>\n",
              "      <th>Год</th>\n",
              "      <th>Ночей</th>\n",
              "      <th>Вид тура</th>\n",
              "      <th>Тип заявки</th>\n",
              "      <th>Страна тура</th>\n",
              "      <th>Регион отеля</th>\n",
              "      <th>Туристов</th>\n",
              "      <th>Туристы, взрослые</th>\n",
              "      <th>Туристы, дети</th>\n",
              "      <th>Младенцы</th>\n",
              "      <th>Звездность</th>\n",
              "      <th>Состав группы</th>\n",
              "      <th>Сумма</th>\n",
              "      <th>Наименование тура</th>\n",
              "      <th>Глубина продаж</th>\n",
              "      <th>Тип питания</th>\n",
              "      <th>Город отеля</th>\n",
              "      <th>Город отправления</th>\n",
              "      <th>Звездность_fix</th>\n",
              "      <th>Тип питания fix</th>\n",
              "      <th>Начало тура ДР</th>\n",
              "      <th>Месяц Бронирования</th>\n",
              "      <th>Месяц Выезда</th>\n",
              "      <th>Ночей_next</th>\n",
              "      <th>Сумма_next</th>\n",
              "      <th>Звездность_fix_next</th>\n",
              "      <th>Тип питания fix_next</th>\n",
              "      <th>Страна тура_next</th>\n",
              "      <th>Регион отеля_next</th>\n",
              "      <th>Город отеля_next</th>\n",
              "    </tr>\n",
              "  </thead>\n",
              "  <tbody>\n",
              "    <tr>\n",
              "      <th>0</th>\n",
              "      <td>4208819</td>\n",
              "      <td>1</td>\n",
              "      <td>1985-05-12</td>\n",
              "      <td>35.0</td>\n",
              "      <td>4808190</td>\n",
              "      <td>2021-02-09 17:38:00</td>\n",
              "      <td>2021-06-06</td>\n",
              "      <td>2021</td>\n",
              "      <td>11</td>\n",
              "      <td>Пляжный отдых</td>\n",
              "      <td>Пакет</td>\n",
              "      <td>Турция</td>\n",
              "      <td>Аланья</td>\n",
              "      <td>4</td>\n",
              "      <td>4</td>\n",
              "      <td>0</td>\n",
              "      <td>0</td>\n",
              "      <td>3*</td>\n",
              "      <td>Группа</td>\n",
              "      <td>1121.02</td>\n",
              "      <td>Turkey Antalya MOW</td>\n",
              "      <td>116.265278</td>\n",
              "      <td>RO</td>\n",
              "      <td>Аланья</td>\n",
              "      <td>Москва</td>\n",
              "      <td>3</td>\n",
              "      <td>RO</td>\n",
              "      <td>25.0</td>\n",
              "      <td>2</td>\n",
              "      <td>2</td>\n",
              "      <td>11</td>\n",
              "      <td>972.86</td>\n",
              "      <td>3</td>\n",
              "      <td>RO</td>\n",
              "      <td>Турция</td>\n",
              "      <td>Аланья</td>\n",
              "      <td>Аланья</td>\n",
              "    </tr>\n",
              "    <tr>\n",
              "      <th>1</th>\n",
              "      <td>1126158</td>\n",
              "      <td>1</td>\n",
              "      <td>1989-05-13</td>\n",
              "      <td>31.0</td>\n",
              "      <td>3530270</td>\n",
              "      <td>2019-03-12 17:13:00</td>\n",
              "      <td>2019-06-06</td>\n",
              "      <td>2019</td>\n",
              "      <td>7</td>\n",
              "      <td>Пляжный отдых</td>\n",
              "      <td>Пакет</td>\n",
              "      <td>Турция</td>\n",
              "      <td>Мармарис</td>\n",
              "      <td>4</td>\n",
              "      <td>2</td>\n",
              "      <td>1</td>\n",
              "      <td>1</td>\n",
              "      <td>5*</td>\n",
              "      <td>Семья</td>\n",
              "      <td>1395.95</td>\n",
              "      <td>Turkey Dalaman MOW</td>\n",
              "      <td>85.282639</td>\n",
              "      <td>All Inclusive</td>\n",
              "      <td>Сителер</td>\n",
              "      <td>Москва</td>\n",
              "      <td>5</td>\n",
              "      <td>AI</td>\n",
              "      <td>24.0</td>\n",
              "      <td>3</td>\n",
              "      <td>3</td>\n",
              "      <td>7</td>\n",
              "      <td>1841.63</td>\n",
              "      <td>5</td>\n",
              "      <td>AI</td>\n",
              "      <td>Турция</td>\n",
              "      <td>Мармарис</td>\n",
              "      <td>Армуталан</td>\n",
              "    </tr>\n",
              "    <tr>\n",
              "      <th>2</th>\n",
              "      <td>1126159</td>\n",
              "      <td>1</td>\n",
              "      <td>2014-12-10</td>\n",
              "      <td>6.0</td>\n",
              "      <td>3530270</td>\n",
              "      <td>2019-03-12 17:13:00</td>\n",
              "      <td>2019-06-06</td>\n",
              "      <td>2019</td>\n",
              "      <td>7</td>\n",
              "      <td>Пляжный отдых</td>\n",
              "      <td>Пакет</td>\n",
              "      <td>Турция</td>\n",
              "      <td>Мармарис</td>\n",
              "      <td>4</td>\n",
              "      <td>2</td>\n",
              "      <td>1</td>\n",
              "      <td>1</td>\n",
              "      <td>5*</td>\n",
              "      <td>Семья</td>\n",
              "      <td>1395.95</td>\n",
              "      <td>Turkey Dalaman MOW</td>\n",
              "      <td>85.282639</td>\n",
              "      <td>All Inclusive</td>\n",
              "      <td>Сителер</td>\n",
              "      <td>Москва</td>\n",
              "      <td>5</td>\n",
              "      <td>AI</td>\n",
              "      <td>178.0</td>\n",
              "      <td>3</td>\n",
              "      <td>3</td>\n",
              "      <td>7</td>\n",
              "      <td>1841.63</td>\n",
              "      <td>5</td>\n",
              "      <td>AI</td>\n",
              "      <td>Турция</td>\n",
              "      <td>Мармарис</td>\n",
              "      <td>Армуталан</td>\n",
              "    </tr>\n",
              "    <tr>\n",
              "      <th>3</th>\n",
              "      <td>3809190</td>\n",
              "      <td>1</td>\n",
              "      <td>2017-08-18</td>\n",
              "      <td>3.0</td>\n",
              "      <td>4626251</td>\n",
              "      <td>2020-09-09 14:32:00</td>\n",
              "      <td>2020-09-27</td>\n",
              "      <td>2020</td>\n",
              "      <td>12</td>\n",
              "      <td>VIP</td>\n",
              "      <td>Premium</td>\n",
              "      <td>Турция</td>\n",
              "      <td>Белек</td>\n",
              "      <td>4</td>\n",
              "      <td>2</td>\n",
              "      <td>2</td>\n",
              "      <td>0</td>\n",
              "      <td>5*</td>\n",
              "      <td>Семья</td>\n",
              "      <td>3640.11</td>\n",
              "      <td>TUI Premium Antalya MOW</td>\n",
              "      <td>17.394444</td>\n",
              "      <td>UAI</td>\n",
              "      <td>Белек Центр</td>\n",
              "      <td>Москва</td>\n",
              "      <td>5</td>\n",
              "      <td>UAI</td>\n",
              "      <td>41.0</td>\n",
              "      <td>9</td>\n",
              "      <td>9</td>\n",
              "      <td>12</td>\n",
              "      <td>5845.59</td>\n",
              "      <td>5</td>\n",
              "      <td>UAI</td>\n",
              "      <td>Турция</td>\n",
              "      <td>Фетхие</td>\n",
              "      <td>Фетхие</td>\n",
              "    </tr>\n",
              "    <tr>\n",
              "      <th>4</th>\n",
              "      <td>3809191</td>\n",
              "      <td>1</td>\n",
              "      <td>1981-09-29</td>\n",
              "      <td>39.0</td>\n",
              "      <td>4626251</td>\n",
              "      <td>2020-09-09 14:32:00</td>\n",
              "      <td>2020-09-27</td>\n",
              "      <td>2020</td>\n",
              "      <td>12</td>\n",
              "      <td>VIP</td>\n",
              "      <td>Premium</td>\n",
              "      <td>Турция</td>\n",
              "      <td>Белек</td>\n",
              "      <td>4</td>\n",
              "      <td>2</td>\n",
              "      <td>2</td>\n",
              "      <td>0</td>\n",
              "      <td>5*</td>\n",
              "      <td>Семья</td>\n",
              "      <td>3640.11</td>\n",
              "      <td>TUI Premium Antalya MOW</td>\n",
              "      <td>17.394444</td>\n",
              "      <td>UAI</td>\n",
              "      <td>Белек Центр</td>\n",
              "      <td>Москва</td>\n",
              "      <td>5</td>\n",
              "      <td>UAI</td>\n",
              "      <td>1.0</td>\n",
              "      <td>9</td>\n",
              "      <td>9</td>\n",
              "      <td>12</td>\n",
              "      <td>5845.59</td>\n",
              "      <td>5</td>\n",
              "      <td>UAI</td>\n",
              "      <td>Турция</td>\n",
              "      <td>Фетхие</td>\n",
              "      <td>Фетхие</td>\n",
              "    </tr>\n",
              "  </tbody>\n",
              "</table>\n",
              "</div>"
            ],
            "text/plain": [
              "   ИД клиента  Пол  ... Регион отеля_next  Город отеля_next\n",
              "0     4208819    1  ...            Аланья            Аланья\n",
              "1     1126158    1  ...          Мармарис         Армуталан\n",
              "2     1126159    1  ...          Мармарис         Армуталан\n",
              "3     3809190    1  ...            Фетхие            Фетхие\n",
              "4     3809191    1  ...            Фетхие            Фетхие\n",
              "\n",
              "[5 rows x 37 columns]"
            ]
          },
          "metadata": {
            "tags": []
          },
          "execution_count": 35
        }
      ]
    },
    {
      "cell_type": "code",
      "metadata": {
        "colab": {
          "base_uri": "https://localhost:8080/"
        },
        "id": "sCkH5ApF028d",
        "outputId": "7c75686a-b932-4108-c005-6220527bab82"
      },
      "source": [
        "from sklearn.model_selection import train_test_split\n",
        "merged_train, merged_test = train_test_split(merged)\n",
        "merged_train.shape, merged_test.shape"
      ],
      "execution_count": 37,
      "outputs": [
        {
          "output_type": "execute_result",
          "data": {
            "text/plain": [
              "((9037, 37), (3013, 37))"
            ]
          },
          "metadata": {
            "tags": []
          },
          "execution_count": 37
        }
      ]
    },
    {
      "cell_type": "code",
      "metadata": {
        "colab": {
          "base_uri": "https://localhost:8080/"
        },
        "id": "-T8h-dhh2Jwq",
        "outputId": "ab5af65e-9d6e-4122-e6ae-199c96e7f091"
      },
      "source": [
        "f[1:]+t"
      ],
      "execution_count": 48,
      "outputs": [
        {
          "output_type": "execute_result",
          "data": {
            "text/plain": [
              "['Пол',\n",
              " 'Возраст клиента',\n",
              " 'Начало тура ДР',\n",
              " 'Месяц Бронирования',\n",
              " 'Месяц Выезда',\n",
              " 'Туристов',\n",
              " 'Туристы, взрослые',\n",
              " 'Туристы, дети',\n",
              " 'Младенцы',\n",
              " 'Состав группы',\n",
              " 'Город отправления',\n",
              " 'Ночей',\n",
              " 'Сумма',\n",
              " 'Звездность_fix',\n",
              " 'Тип питания fix',\n",
              " 'Страна тура',\n",
              " 'Регион отеля',\n",
              " 'Город отеля']"
            ]
          },
          "metadata": {
            "tags": []
          },
          "execution_count": 48
        }
      ]
    },
    {
      "cell_type": "code",
      "metadata": {
        "colab": {
          "base_uri": "https://localhost:8080/"
        },
        "id": "X4mIVqLo1WPr",
        "outputId": "5642d1d1-6dd8-4d0f-bb38-49478abeb0cd"
      },
      "source": [
        "t_next"
      ],
      "execution_count": 41,
      "outputs": [
        {
          "output_type": "execute_result",
          "data": {
            "text/plain": [
              "['Ночей_next',\n",
              " 'Сумма_next',\n",
              " 'Звездность_fix_next',\n",
              " 'Тип питания fix_next',\n",
              " 'Страна тура_next',\n",
              " 'Регион отеля_next',\n",
              " 'Город отеля_next']"
            ]
          },
          "metadata": {
            "tags": []
          },
          "execution_count": 41
        }
      ]
    },
    {
      "cell_type": "code",
      "metadata": {
        "id": "VK5UZawR2nrM"
      },
      "source": [
        "merged_train = merged_train.replace({None: 'nan'})\n",
        "merged_test = merged_test.replace({None: 'nan'})"
      ],
      "execution_count": 65,
      "outputs": []
    },
    {
      "cell_type": "code",
      "metadata": {
        "colab": {
          "base_uri": "https://localhost:8080/",
          "height": 524
        },
        "id": "bZtbrtyk2NH1",
        "outputId": "6fda6334-32b3-4aba-a85c-1c5ceb2a808b"
      },
      "source": [
        "merged_train[f[1:]+t]"
      ],
      "execution_count": 49,
      "outputs": [
        {
          "output_type": "execute_result",
          "data": {
            "text/html": [
              "<div>\n",
              "<style scoped>\n",
              "    .dataframe tbody tr th:only-of-type {\n",
              "        vertical-align: middle;\n",
              "    }\n",
              "\n",
              "    .dataframe tbody tr th {\n",
              "        vertical-align: top;\n",
              "    }\n",
              "\n",
              "    .dataframe thead th {\n",
              "        text-align: right;\n",
              "    }\n",
              "</style>\n",
              "<table border=\"1\" class=\"dataframe\">\n",
              "  <thead>\n",
              "    <tr style=\"text-align: right;\">\n",
              "      <th></th>\n",
              "      <th>Пол</th>\n",
              "      <th>Возраст клиента</th>\n",
              "      <th>Начало тура ДР</th>\n",
              "      <th>Месяц Бронирования</th>\n",
              "      <th>Месяц Выезда</th>\n",
              "      <th>Туристов</th>\n",
              "      <th>Туристы, взрослые</th>\n",
              "      <th>Туристы, дети</th>\n",
              "      <th>Младенцы</th>\n",
              "      <th>Состав группы</th>\n",
              "      <th>Город отправления</th>\n",
              "      <th>Ночей</th>\n",
              "      <th>Сумма</th>\n",
              "      <th>Звездность_fix</th>\n",
              "      <th>Тип питания fix</th>\n",
              "      <th>Страна тура</th>\n",
              "      <th>Регион отеля</th>\n",
              "      <th>Город отеля</th>\n",
              "    </tr>\n",
              "  </thead>\n",
              "  <tbody>\n",
              "    <tr>\n",
              "      <th>2169</th>\n",
              "      <td>1</td>\n",
              "      <td>21.0</td>\n",
              "      <td>42.0</td>\n",
              "      <td>4</td>\n",
              "      <td>4</td>\n",
              "      <td>2</td>\n",
              "      <td>2</td>\n",
              "      <td>0</td>\n",
              "      <td>0</td>\n",
              "      <td>Группа</td>\n",
              "      <td>Москва</td>\n",
              "      <td>11</td>\n",
              "      <td>1139.53</td>\n",
              "      <td>3</td>\n",
              "      <td>BB</td>\n",
              "      <td>Болгария</td>\n",
              "      <td>Бургас</td>\n",
              "      <td>Несебр и Равда</td>\n",
              "    </tr>\n",
              "    <tr>\n",
              "      <th>8712</th>\n",
              "      <td>0</td>\n",
              "      <td>14.0</td>\n",
              "      <td>17.0</td>\n",
              "      <td>2</td>\n",
              "      <td>2</td>\n",
              "      <td>3</td>\n",
              "      <td>2</td>\n",
              "      <td>1</td>\n",
              "      <td>0</td>\n",
              "      <td>Семья</td>\n",
              "      <td>Москва</td>\n",
              "      <td>14</td>\n",
              "      <td>3519.49</td>\n",
              "      <td>None</td>\n",
              "      <td>None</td>\n",
              "      <td>Испания</td>\n",
              "      <td>None</td>\n",
              "      <td>None</td>\n",
              "    </tr>\n",
              "    <tr>\n",
              "      <th>1903</th>\n",
              "      <td>1</td>\n",
              "      <td>40.0</td>\n",
              "      <td>50.0</td>\n",
              "      <td>5</td>\n",
              "      <td>5</td>\n",
              "      <td>3</td>\n",
              "      <td>2</td>\n",
              "      <td>0</td>\n",
              "      <td>1</td>\n",
              "      <td>Семья</td>\n",
              "      <td>Москва</td>\n",
              "      <td>7</td>\n",
              "      <td>1961.41</td>\n",
              "      <td>None</td>\n",
              "      <td>None</td>\n",
              "      <td>Греция</td>\n",
              "      <td>None</td>\n",
              "      <td>None</td>\n",
              "    </tr>\n",
              "    <tr>\n",
              "      <th>10264</th>\n",
              "      <td>0</td>\n",
              "      <td>34.0</td>\n",
              "      <td>76.0</td>\n",
              "      <td>2</td>\n",
              "      <td>2</td>\n",
              "      <td>2</td>\n",
              "      <td>2</td>\n",
              "      <td>0</td>\n",
              "      <td>0</td>\n",
              "      <td>Пары</td>\n",
              "      <td>Москва</td>\n",
              "      <td>10</td>\n",
              "      <td>2454.51</td>\n",
              "      <td>None</td>\n",
              "      <td>None</td>\n",
              "      <td>Кипр</td>\n",
              "      <td>None</td>\n",
              "      <td>None</td>\n",
              "    </tr>\n",
              "    <tr>\n",
              "      <th>2266</th>\n",
              "      <td>1</td>\n",
              "      <td>71.0</td>\n",
              "      <td>149.0</td>\n",
              "      <td>8</td>\n",
              "      <td>8</td>\n",
              "      <td>2</td>\n",
              "      <td>2</td>\n",
              "      <td>0</td>\n",
              "      <td>0</td>\n",
              "      <td>Пары</td>\n",
              "      <td>Сочи</td>\n",
              "      <td>3</td>\n",
              "      <td>158.43</td>\n",
              "      <td>3</td>\n",
              "      <td>BB</td>\n",
              "      <td>Россия</td>\n",
              "      <td>Санкт-Петербург</td>\n",
              "      <td>Санкт-Петербург</td>\n",
              "    </tr>\n",
              "    <tr>\n",
              "      <th>...</th>\n",
              "      <td>...</td>\n",
              "      <td>...</td>\n",
              "      <td>...</td>\n",
              "      <td>...</td>\n",
              "      <td>...</td>\n",
              "      <td>...</td>\n",
              "      <td>...</td>\n",
              "      <td>...</td>\n",
              "      <td>...</td>\n",
              "      <td>...</td>\n",
              "      <td>...</td>\n",
              "      <td>...</td>\n",
              "      <td>...</td>\n",
              "      <td>...</td>\n",
              "      <td>...</td>\n",
              "      <td>...</td>\n",
              "      <td>...</td>\n",
              "      <td>...</td>\n",
              "    </tr>\n",
              "    <tr>\n",
              "      <th>8405</th>\n",
              "      <td>0</td>\n",
              "      <td>9.0</td>\n",
              "      <td>13.0</td>\n",
              "      <td>2</td>\n",
              "      <td>2</td>\n",
              "      <td>5</td>\n",
              "      <td>2</td>\n",
              "      <td>2</td>\n",
              "      <td>1</td>\n",
              "      <td>Семья</td>\n",
              "      <td>Анталья</td>\n",
              "      <td>14</td>\n",
              "      <td>8145.00</td>\n",
              "      <td>5</td>\n",
              "      <td>AI</td>\n",
              "      <td>Турция</td>\n",
              "      <td>Белек</td>\n",
              "      <td>Белек Центр</td>\n",
              "    </tr>\n",
              "    <tr>\n",
              "      <th>7640</th>\n",
              "      <td>0</td>\n",
              "      <td>47.0</td>\n",
              "      <td>97.0</td>\n",
              "      <td>1</td>\n",
              "      <td>1</td>\n",
              "      <td>3</td>\n",
              "      <td>2</td>\n",
              "      <td>1</td>\n",
              "      <td>0</td>\n",
              "      <td>Семья</td>\n",
              "      <td>Москва</td>\n",
              "      <td>7</td>\n",
              "      <td>1862.00</td>\n",
              "      <td>5</td>\n",
              "      <td>UAI</td>\n",
              "      <td>Турция</td>\n",
              "      <td>Кемер</td>\n",
              "      <td>Бельдиби</td>\n",
              "    </tr>\n",
              "    <tr>\n",
              "      <th>11987</th>\n",
              "      <td>0</td>\n",
              "      <td>34.0</td>\n",
              "      <td>126.0</td>\n",
              "      <td>5</td>\n",
              "      <td>5</td>\n",
              "      <td>3</td>\n",
              "      <td>2</td>\n",
              "      <td>1</td>\n",
              "      <td>0</td>\n",
              "      <td>Семья</td>\n",
              "      <td>Москва</td>\n",
              "      <td>12</td>\n",
              "      <td>1149.34</td>\n",
              "      <td>3</td>\n",
              "      <td>FB</td>\n",
              "      <td>Россия</td>\n",
              "      <td>Сочи</td>\n",
              "      <td>Имеретинская Бухта</td>\n",
              "    </tr>\n",
              "    <tr>\n",
              "      <th>7918</th>\n",
              "      <td>0</td>\n",
              "      <td>47.0</td>\n",
              "      <td>16.0</td>\n",
              "      <td>6</td>\n",
              "      <td>6</td>\n",
              "      <td>4</td>\n",
              "      <td>3</td>\n",
              "      <td>1</td>\n",
              "      <td>0</td>\n",
              "      <td>Семья</td>\n",
              "      <td>Москва</td>\n",
              "      <td>12</td>\n",
              "      <td>3164.00</td>\n",
              "      <td>None</td>\n",
              "      <td>None</td>\n",
              "      <td>Турция</td>\n",
              "      <td>None</td>\n",
              "      <td>None</td>\n",
              "    </tr>\n",
              "    <tr>\n",
              "      <th>10155</th>\n",
              "      <td>0</td>\n",
              "      <td>58.0</td>\n",
              "      <td>101.0</td>\n",
              "      <td>3</td>\n",
              "      <td>3</td>\n",
              "      <td>2</td>\n",
              "      <td>1</td>\n",
              "      <td>1</td>\n",
              "      <td>0</td>\n",
              "      <td>Семья</td>\n",
              "      <td>Москва</td>\n",
              "      <td>21</td>\n",
              "      <td>4361.00</td>\n",
              "      <td>5</td>\n",
              "      <td>UAI</td>\n",
              "      <td>Турция</td>\n",
              "      <td>Кемер</td>\n",
              "      <td>Гейнюк</td>\n",
              "    </tr>\n",
              "  </tbody>\n",
              "</table>\n",
              "<p>9037 rows × 18 columns</p>\n",
              "</div>"
            ],
            "text/plain": [
              "       Пол  Возраст клиента  ...     Регион отеля         Город отеля\n",
              "2169     1             21.0  ...           Бургас      Несебр и Равда\n",
              "8712     0             14.0  ...             None                None\n",
              "1903     1             40.0  ...             None                None\n",
              "10264    0             34.0  ...             None                None\n",
              "2266     1             71.0  ...  Санкт-Петербург     Санкт-Петербург\n",
              "...    ...              ...  ...              ...                 ...\n",
              "8405     0              9.0  ...            Белек         Белек Центр\n",
              "7640     0             47.0  ...            Кемер            Бельдиби\n",
              "11987    0             34.0  ...             Сочи  Имеретинская Бухта\n",
              "7918     0             47.0  ...             None                None\n",
              "10155    0             58.0  ...            Кемер              Гейнюк\n",
              "\n",
              "[9037 rows x 18 columns]"
            ]
          },
          "metadata": {
            "tags": []
          },
          "execution_count": 49
        }
      ]
    },
    {
      "cell_type": "code",
      "metadata": {
        "id": "QO6n7iEi1Gya"
      },
      "source": [
        "x_train, x_test = merged_train[f[1:]+t].values, merged_test[f[1:]+t].values\n",
        "y_train, y_test = merged_train[t_next].values, merged_test[t_next].values"
      ],
      "execution_count": 66,
      "outputs": []
    },
    {
      "cell_type": "code",
      "metadata": {
        "colab": {
          "base_uri": "https://localhost:8080/"
        },
        "id": "WCWHL9U_1y_f",
        "outputId": "26f96f95-aacd-46ca-fed8-e7da01eac2f9"
      },
      "source": [
        "!pip install catboost"
      ],
      "execution_count": 44,
      "outputs": [
        {
          "output_type": "stream",
          "text": [
            "Collecting catboost\n",
            "\u001b[?25l  Downloading https://files.pythonhosted.org/packages/1e/21/d1718eb4c93d6bacdd540b3792187f32ccb1ad9c51b9c4f10875d63ec176/catboost-0.25-cp37-none-manylinux1_x86_64.whl (67.3MB)\n",
            "\u001b[K     |████████████████████████████████| 67.3MB 57kB/s \n",
            "\u001b[?25hRequirement already satisfied: graphviz in /usr/local/lib/python3.7/dist-packages (from catboost) (0.10.1)\n",
            "Requirement already satisfied: matplotlib in /usr/local/lib/python3.7/dist-packages (from catboost) (3.2.2)\n",
            "Requirement already satisfied: six in /usr/local/lib/python3.7/dist-packages (from catboost) (1.15.0)\n",
            "Requirement already satisfied: pandas>=0.24.0 in /usr/local/lib/python3.7/dist-packages (from catboost) (1.1.5)\n",
            "Requirement already satisfied: plotly in /usr/local/lib/python3.7/dist-packages (from catboost) (4.4.1)\n",
            "Requirement already satisfied: numpy>=1.16.0 in /usr/local/lib/python3.7/dist-packages (from catboost) (1.19.5)\n",
            "Requirement already satisfied: scipy in /usr/local/lib/python3.7/dist-packages (from catboost) (1.4.1)\n",
            "Requirement already satisfied: cycler>=0.10 in /usr/local/lib/python3.7/dist-packages (from matplotlib->catboost) (0.10.0)\n",
            "Requirement already satisfied: python-dateutil>=2.1 in /usr/local/lib/python3.7/dist-packages (from matplotlib->catboost) (2.8.1)\n",
            "Requirement already satisfied: pyparsing!=2.0.4,!=2.1.2,!=2.1.6,>=2.0.1 in /usr/local/lib/python3.7/dist-packages (from matplotlib->catboost) (2.4.7)\n",
            "Requirement already satisfied: kiwisolver>=1.0.1 in /usr/local/lib/python3.7/dist-packages (from matplotlib->catboost) (1.3.1)\n",
            "Requirement already satisfied: pytz>=2017.2 in /usr/local/lib/python3.7/dist-packages (from pandas>=0.24.0->catboost) (2018.9)\n",
            "Requirement already satisfied: retrying>=1.3.3 in /usr/local/lib/python3.7/dist-packages (from plotly->catboost) (1.3.3)\n",
            "Installing collected packages: catboost\n",
            "Successfully installed catboost-0.25\n"
          ],
          "name": "stdout"
        }
      ]
    },
    {
      "cell_type": "code",
      "metadata": {
        "id": "UU4ZRphu1q5E"
      },
      "source": [
        "import catboost"
      ],
      "execution_count": 46,
      "outputs": []
    },
    {
      "cell_type": "code",
      "metadata": {
        "id": "nTSTReeU1yW8"
      },
      "source": [
        "clf = catboost.CatBoostClassifier(cat_features=[9,10,13,14,15,16,17], eval_metric='mse')"
      ],
      "execution_count": 50,
      "outputs": []
    },
    {
      "cell_type": "code",
      "metadata": {
        "colab": {
          "base_uri": "https://localhost:8080/"
        },
        "id": "0YTgSrW02ggw",
        "outputId": "4bf5bc5e-3a5e-44e4-c44b-b2291472d3ef"
      },
      "source": [
        ""
      ],
      "execution_count": 52,
      "outputs": [
        {
          "output_type": "execute_result",
          "data": {
            "text/plain": [
              "array([[1, 21.0, 42.0, ..., 'Болгария', 'Бургас', 'Несебр и Равда'],\n",
              "       [0, 14.0, 17.0, ..., 'Испания', None, None],\n",
              "       [1, 40.0, 50.0, ..., 'Греция', None, None],\n",
              "       ...,\n",
              "       [0, 34.0, 126.0, ..., 'Россия', 'Сочи', 'Имеретинская Бухта'],\n",
              "       [0, 47.0, 16.0, ..., 'Турция', None, None],\n",
              "       [0, 58.0, 101.0, ..., 'Турция', 'Кемер', 'Гейнюк']], dtype=object)"
            ]
          },
          "metadata": {
            "tags": []
          },
          "execution_count": 52
        }
      ]
    },
    {
      "cell_type": "code",
      "metadata": {
        "colab": {
          "base_uri": "https://localhost:8080/"
        },
        "id": "__BUSuQW2xOB",
        "outputId": "c9df89b9-7f1e-4866-c4a0-1a0ddce007f0"
      },
      "source": [
        "y_test[:,0]"
      ],
      "execution_count": 68,
      "outputs": [
        {
          "output_type": "execute_result",
          "data": {
            "text/plain": [
              "array([12, 11, 10, ..., 7, 14, 12], dtype=object)"
            ]
          },
          "metadata": {
            "tags": []
          },
          "execution_count": 68
        }
      ]
    },
    {
      "cell_type": "code",
      "metadata": {
        "colab": {
          "base_uri": "https://localhost:8080/",
          "height": 698
        },
        "id": "oAc2X7Y12XOa",
        "outputId": "cbad4d4b-dcf7-47ce-ca7a-e9311d3313a9"
      },
      "source": [
        "clf.fit(x_train, y_train[:,0], eval_set=(x_test, y_test[:,0]))"
      ],
      "execution_count": 67,
      "outputs": [
        {
          "output_type": "stream",
          "text": [
            "Learning rate set to 0.112836\n",
            "0:\tlearn: 3.0485755\ttest: 3.0558139\tbest: 3.0558139 (0)\ttotal: 5.14s\tremaining: 1h 25m 37s\n",
            "1:\tlearn: 2.8601064\ttest: 2.8701374\tbest: 2.8701374 (1)\ttotal: 7.37s\tremaining: 1h 1m 18s\n",
            "2:\tlearn: 2.7535660\ttest: 2.7643524\tbest: 2.7643524 (2)\ttotal: 8.31s\tremaining: 46m 2s\n",
            "3:\tlearn: 2.6799863\ttest: 2.6905907\tbest: 2.6905907 (3)\ttotal: 9.21s\tremaining: 38m 13s\n",
            "4:\tlearn: 2.6036876\ttest: 2.6153257\tbest: 2.6153257 (4)\ttotal: 14.2s\tremaining: 46m 56s\n",
            "5:\tlearn: 2.5494549\ttest: 2.5609359\tbest: 2.5609359 (5)\ttotal: 15.8s\tremaining: 43m 35s\n",
            "6:\tlearn: 2.5028342\ttest: 2.5154847\tbest: 2.5154847 (6)\ttotal: 21.1s\tremaining: 49m 50s\n",
            "7:\tlearn: 2.4708419\ttest: 2.4832304\tbest: 2.4832304 (7)\ttotal: 21.4s\tremaining: 44m 16s\n",
            "8:\tlearn: 2.4428768\ttest: 2.4551734\tbest: 2.4551734 (8)\ttotal: 24.8s\tremaining: 45m 35s\n",
            "9:\tlearn: 2.4106391\ttest: 2.4238624\tbest: 2.4238624 (9)\ttotal: 30.1s\tremaining: 49m 43s\n",
            "10:\tlearn: 2.3840008\ttest: 2.3976760\tbest: 2.3976760 (10)\ttotal: 35.6s\tremaining: 53m 18s\n",
            "11:\tlearn: 2.3578416\ttest: 2.3752845\tbest: 2.3752845 (11)\ttotal: 40s\tremaining: 54m 50s\n",
            "12:\tlearn: 2.3395651\ttest: 2.3579566\tbest: 2.3579566 (12)\ttotal: 40.9s\tremaining: 51m 45s\n",
            "13:\tlearn: 2.3236819\ttest: 2.3432115\tbest: 2.3432115 (13)\ttotal: 44.8s\tremaining: 52m 34s\n",
            "14:\tlearn: 2.3080783\ttest: 2.3285347\tbest: 2.3285347 (14)\ttotal: 49.5s\tremaining: 54m 13s\n",
            "15:\tlearn: 2.2990079\ttest: 2.3194143\tbest: 2.3194143 (15)\ttotal: 50.4s\tremaining: 51m 40s\n",
            "16:\tlearn: 2.2863937\ttest: 2.3078089\tbest: 2.3078089 (16)\ttotal: 55.2s\tremaining: 53m 11s\n",
            "17:\tlearn: 2.2747949\ttest: 2.2971347\tbest: 2.2971347 (17)\ttotal: 56.8s\tremaining: 51m 40s\n"
          ],
          "name": "stdout"
        },
        {
          "output_type": "error",
          "ename": "KeyboardInterrupt",
          "evalue": "ignored",
          "traceback": [
            "\u001b[0;31m---------------------------------------------------------------------------\u001b[0m",
            "\u001b[0;31mKeyboardInterrupt\u001b[0m                         Traceback (most recent call last)",
            "\u001b[0;32m<ipython-input-67-9d39e78c0863>\u001b[0m in \u001b[0;36m<module>\u001b[0;34m()\u001b[0m\n\u001b[0;32m----> 1\u001b[0;31m \u001b[0mclf\u001b[0m\u001b[0;34m.\u001b[0m\u001b[0mfit\u001b[0m\u001b[0;34m(\u001b[0m\u001b[0mx_train\u001b[0m\u001b[0;34m,\u001b[0m \u001b[0my_train\u001b[0m\u001b[0;34m[\u001b[0m\u001b[0;34m:\u001b[0m\u001b[0;34m,\u001b[0m\u001b[0;36m0\u001b[0m\u001b[0;34m]\u001b[0m\u001b[0;34m,\u001b[0m \u001b[0meval_set\u001b[0m\u001b[0;34m=\u001b[0m\u001b[0;34m(\u001b[0m\u001b[0mx_test\u001b[0m\u001b[0;34m,\u001b[0m \u001b[0my_test\u001b[0m\u001b[0;34m[\u001b[0m\u001b[0;34m:\u001b[0m\u001b[0;34m,\u001b[0m\u001b[0;36m0\u001b[0m\u001b[0;34m]\u001b[0m\u001b[0;34m)\u001b[0m\u001b[0;34m)\u001b[0m\u001b[0;34m\u001b[0m\u001b[0;34m\u001b[0m\u001b[0m\n\u001b[0m",
            "\u001b[0;32m/usr/local/lib/python3.7/dist-packages/catboost/core.py\u001b[0m in \u001b[0;36mfit\u001b[0;34m(self, X, y, cat_features, text_features, embedding_features, sample_weight, baseline, use_best_model, eval_set, verbose, logging_level, plot, column_description, verbose_eval, metric_period, silent, early_stopping_rounds, save_snapshot, snapshot_file, snapshot_interval, init_model)\u001b[0m\n\u001b[1;32m   4539\u001b[0m         self._fit(X, y, cat_features, text_features, embedding_features, None, sample_weight, None, None, None, None, baseline, use_best_model,\n\u001b[1;32m   4540\u001b[0m                   \u001b[0meval_set\u001b[0m\u001b[0;34m,\u001b[0m \u001b[0mverbose\u001b[0m\u001b[0;34m,\u001b[0m \u001b[0mlogging_level\u001b[0m\u001b[0;34m,\u001b[0m \u001b[0mplot\u001b[0m\u001b[0;34m,\u001b[0m \u001b[0mcolumn_description\u001b[0m\u001b[0;34m,\u001b[0m \u001b[0mverbose_eval\u001b[0m\u001b[0;34m,\u001b[0m \u001b[0mmetric_period\u001b[0m\u001b[0;34m,\u001b[0m\u001b[0;34m\u001b[0m\u001b[0;34m\u001b[0m\u001b[0m\n\u001b[0;32m-> 4541\u001b[0;31m                   silent, early_stopping_rounds, save_snapshot, snapshot_file, snapshot_interval, init_model)\n\u001b[0m\u001b[1;32m   4542\u001b[0m         \u001b[0;32mreturn\u001b[0m \u001b[0mself\u001b[0m\u001b[0;34m\u001b[0m\u001b[0;34m\u001b[0m\u001b[0m\n\u001b[1;32m   4543\u001b[0m \u001b[0;34m\u001b[0m\u001b[0m\n",
            "\u001b[0;32m/usr/local/lib/python3.7/dist-packages/catboost/core.py\u001b[0m in \u001b[0;36m_fit\u001b[0;34m(self, X, y, cat_features, text_features, embedding_features, pairs, sample_weight, group_id, group_weight, subgroup_id, pairs_weight, baseline, use_best_model, eval_set, verbose, logging_level, plot, column_description, verbose_eval, metric_period, silent, early_stopping_rounds, save_snapshot, snapshot_file, snapshot_interval, init_model)\u001b[0m\n\u001b[1;32m   1921\u001b[0m                 \u001b[0mparams\u001b[0m\u001b[0;34m,\u001b[0m\u001b[0;34m\u001b[0m\u001b[0;34m\u001b[0m\u001b[0m\n\u001b[1;32m   1922\u001b[0m                 \u001b[0mallow_clear_pool\u001b[0m\u001b[0;34m,\u001b[0m\u001b[0;34m\u001b[0m\u001b[0;34m\u001b[0m\u001b[0m\n\u001b[0;32m-> 1923\u001b[0;31m                 \u001b[0mtrain_params\u001b[0m\u001b[0;34m[\u001b[0m\u001b[0;34m\"init_model\"\u001b[0m\u001b[0;34m]\u001b[0m\u001b[0;34m\u001b[0m\u001b[0;34m\u001b[0m\u001b[0m\n\u001b[0m\u001b[1;32m   1924\u001b[0m             )\n\u001b[1;32m   1925\u001b[0m \u001b[0;34m\u001b[0m\u001b[0m\n",
            "\u001b[0;32m/usr/local/lib/python3.7/dist-packages/catboost/core.py\u001b[0m in \u001b[0;36m_train\u001b[0;34m(self, train_pool, test_pool, params, allow_clear_pool, init_model)\u001b[0m\n\u001b[1;32m   1364\u001b[0m \u001b[0;34m\u001b[0m\u001b[0m\n\u001b[1;32m   1365\u001b[0m     \u001b[0;32mdef\u001b[0m \u001b[0m_train\u001b[0m\u001b[0;34m(\u001b[0m\u001b[0mself\u001b[0m\u001b[0;34m,\u001b[0m \u001b[0mtrain_pool\u001b[0m\u001b[0;34m,\u001b[0m \u001b[0mtest_pool\u001b[0m\u001b[0;34m,\u001b[0m \u001b[0mparams\u001b[0m\u001b[0;34m,\u001b[0m \u001b[0mallow_clear_pool\u001b[0m\u001b[0;34m,\u001b[0m \u001b[0minit_model\u001b[0m\u001b[0;34m)\u001b[0m\u001b[0;34m:\u001b[0m\u001b[0;34m\u001b[0m\u001b[0;34m\u001b[0m\u001b[0m\n\u001b[0;32m-> 1366\u001b[0;31m         \u001b[0mself\u001b[0m\u001b[0;34m.\u001b[0m\u001b[0m_object\u001b[0m\u001b[0;34m.\u001b[0m\u001b[0m_train\u001b[0m\u001b[0;34m(\u001b[0m\u001b[0mtrain_pool\u001b[0m\u001b[0;34m,\u001b[0m \u001b[0mtest_pool\u001b[0m\u001b[0;34m,\u001b[0m \u001b[0mparams\u001b[0m\u001b[0;34m,\u001b[0m \u001b[0mallow_clear_pool\u001b[0m\u001b[0;34m,\u001b[0m \u001b[0minit_model\u001b[0m\u001b[0;34m.\u001b[0m\u001b[0m_object\u001b[0m \u001b[0;32mif\u001b[0m \u001b[0minit_model\u001b[0m \u001b[0;32melse\u001b[0m \u001b[0;32mNone\u001b[0m\u001b[0;34m)\u001b[0m\u001b[0;34m\u001b[0m\u001b[0;34m\u001b[0m\u001b[0m\n\u001b[0m\u001b[1;32m   1367\u001b[0m         \u001b[0mself\u001b[0m\u001b[0;34m.\u001b[0m\u001b[0m_set_trained_model_attributes\u001b[0m\u001b[0;34m(\u001b[0m\u001b[0;34m)\u001b[0m\u001b[0;34m\u001b[0m\u001b[0;34m\u001b[0m\u001b[0m\n\u001b[1;32m   1368\u001b[0m \u001b[0;34m\u001b[0m\u001b[0m\n",
            "\u001b[0;32m_catboost.pyx\u001b[0m in \u001b[0;36m_catboost._CatBoost._train\u001b[0;34m()\u001b[0m\n",
            "\u001b[0;32m_catboost.pyx\u001b[0m in \u001b[0;36m_catboost._CatBoost._train\u001b[0;34m()\u001b[0m\n",
            "\u001b[0;31mKeyboardInterrupt\u001b[0m: "
          ]
        }
      ]
    },
    {
      "cell_type": "code",
      "metadata": {
        "id": "PoX2krGF2eN7"
      },
      "source": [
        ""
      ],
      "execution_count": null,
      "outputs": []
    }
  ]
}